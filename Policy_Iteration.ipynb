{
  "nbformat": 4,
  "nbformat_minor": 0,
  "metadata": {
    "colab": {
      "provenance": [],
      "authorship_tag": "ABX9TyOv02us6aOgC28LYFFFOxds",
      "include_colab_link": true
    },
    "kernelspec": {
      "name": "python3",
      "display_name": "Python 3"
    },
    "language_info": {
      "name": "python"
    }
  },
  "cells": [
    {
      "cell_type": "markdown",
      "metadata": {
        "id": "view-in-github",
        "colab_type": "text"
      },
      "source": [
        "<a href=\"https://colab.research.google.com/github/Ruchi0000/RL/blob/main/Experiment_7(Policy_Iteration).ipynb\" target=\"_parent\"><img src=\"https://colab.research.google.com/assets/colab-badge.svg\" alt=\"Open In Colab\"/></a>"
      ]
    },
    {
      "cell_type": "code",
      "source": [
        "import numpy as np\n",
        "import math\n",
        "\n",
        "grid = np.zeros((3, 4))\n",
        "grid[1, 1] = math.inf\n",
        "grid[0, 3], grid[1, 3] = 1, -1\n",
        "\n",
        "operation_grid = np.array([[\"R\", \"R\", \"R\", 1],\n",
        "                           [\"U\", 0, \"U\", -1],\n",
        "                           [\"U\", \"R\", \"U\", \"L\"]])\n",
        "\n",
        "g = 0.9\n",
        "max_iterations = 100\n",
        "tolerance = 1e-6\n",
        "\n",
        "print(operation_grid)\n",
        "print()\n",
        "print(grid)\n",
        "\n",
        "old_grid = grid.copy()\n",
        "new_grid = np.zeros((3, 4))\n",
        "grid_data = np.zeros((max_iterations, 3, 4))\n",
        "max_change_list = []\n",
        "\n",
        "for y in range(max_iterations):\n",
        "    max_change = 0\n",
        "    for i in range(0, 3):\n",
        "        for j in range(0, 4):\n",
        "            if operation_grid[i][j] == \"R\" and j < 3:\n",
        "                new_value = old_grid[i][j + 1]\n",
        "            elif operation_grid[i][j] == \"U\" and i > 0:\n",
        "                new_value = old_grid[i - 1][j]\n",
        "            elif operation_grid[i][j] == \"L\" and j > 0:\n",
        "                new_value = old_grid[i][j - 1]\n",
        "            else:\n",
        "                continue\n",
        "\n",
        "            new_grid[i][j] = g * new_value\n",
        "            change = abs(new_grid[i][j] - old_grid[i][j])\n",
        "            max_change = max(max_change, change)\n",
        "\n",
        "    max_change_list.append(max_change)\n",
        "    print(f\"Iteration {y + 1}, Max Change: {max_change}\")\n",
        "    print()\n",
        "    print(new_grid)\n",
        "\n",
        "    grid_data[y] = new_grid\n",
        "    old_grid = new_grid.copy()\n",
        "\n",
        "    if max_change < tolerance:\n",
        "        break\n"
      ],
      "metadata": {
        "colab": {
          "base_uri": "https://localhost:8080/"
        },
        "id": "dPQ6ysY7rFan",
        "outputId": "facef197-77f6-49c9-f5fc-1a61ec441a98"
      },
      "execution_count": null,
      "outputs": [
        {
          "output_type": "stream",
          "name": "stdout",
          "text": [
            "[['R' 'R' 'R' '1']\n",
            " ['U' '0' 'U' '-1']\n",
            " ['U' 'R' 'U' 'L']]\n",
            "\n",
            "[[ 0.  0.  0.  1.]\n",
            " [ 0. inf  0. -1.]\n",
            " [ 0.  0.  0.  0.]]\n",
            "Iteration 1, Max Change: 0.9\n",
            "\n",
            "[[0.  0.  0.9 0. ]\n",
            " [0.  0.  0.  0. ]\n",
            " [0.  0.  0.  0. ]]\n",
            "Iteration 2, Max Change: 0.9\n",
            "\n",
            "[[0.   0.81 0.   0.  ]\n",
            " [0.   0.   0.81 0.  ]\n",
            " [0.   0.   0.   0.  ]]\n",
            "Iteration 3, Max Change: 0.81\n",
            "\n",
            "[[0.729 0.    0.    0.   ]\n",
            " [0.    0.    0.    0.   ]\n",
            " [0.    0.    0.729 0.   ]]\n",
            "Iteration 4, Max Change: 0.7290000000000001\n",
            "\n",
            "[[0.     0.     0.     0.    ]\n",
            " [0.6561 0.     0.     0.    ]\n",
            " [0.     0.6561 0.     0.6561]]\n",
            "Iteration 5, Max Change: 0.6561000000000001\n",
            "\n",
            "[[0.      0.      0.      0.     ]\n",
            " [0.      0.      0.      0.     ]\n",
            " [0.59049 0.      0.      0.     ]]\n",
            "Iteration 6, Max Change: 0.5904900000000002\n",
            "\n",
            "[[0. 0. 0. 0.]\n",
            " [0. 0. 0. 0.]\n",
            " [0. 0. 0. 0.]]\n",
            "Iteration 7, Max Change: 0\n",
            "\n",
            "[[0. 0. 0. 0.]\n",
            " [0. 0. 0. 0.]\n",
            " [0. 0. 0. 0.]]\n"
          ]
        }
      ]
    }
  ]
}