{
  "nbformat": 4,
  "nbformat_minor": 0,
  "metadata": {
    "colab": {
      "provenance": [],
      "authorship_tag": "ABX9TyMnss2lruYtALJ8P0RisBlK",
      "include_colab_link": true
    },
    "kernelspec": {
      "name": "python3",
      "display_name": "Python 3"
    },
    "language_info": {
      "name": "python"
    }
  },
  "cells": [
    {
      "cell_type": "markdown",
      "metadata": {
        "id": "view-in-github",
        "colab_type": "text"
      },
      "source": [
        "<a href=\"https://colab.research.google.com/github/Ruchi0000/RL/blob/main/Experiment_4(Multi_arm_Bandit_Problem).ipynb\" target=\"_parent\"><img src=\"https://colab.research.google.com/assets/colab-badge.svg\" alt=\"Open In Colab\"/></a>"
      ]
    },
    {
      "cell_type": "markdown",
      "source": [
        "**Greedy**"
      ],
      "metadata": {
        "id": "7rIwDqA6Srsn"
      }
    },
    {
      "cell_type": "code",
      "execution_count": null,
      "metadata": {
        "colab": {
          "base_uri": "https://localhost:8080/"
        },
        "id": "G19TS7a0R6vT",
        "outputId": "3fb5a4fd-0089-4568-c885-5ddf520b6864"
      },
      "outputs": [
        {
          "output_type": "stream",
          "name": "stdout",
          "text": [
            "Average reward using Greedy Approach: 10.0\n",
            "Lamp chosen 0\n"
          ]
        }
      ],
      "source": [
        "import random\n",
        "\n",
        "def greedy_approach(lamp_durations):\n",
        "    best_lamp = None\n",
        "    max_duration = 0\n",
        "\n",
        "    for lamp, duration in enumerate(lamp_durations):\n",
        "        if duration > max_duration:\n",
        "            max_duration = duration\n",
        "            best_lamp = lamp\n",
        "\n",
        "    return best_lamp\n",
        "\n",
        "num_lamps = 5\n",
        "lamp_durations = [random.randint(1, 10) for i in range(num_lamps)]  # Generate random durations\n",
        "steps = 1000\n",
        "\n",
        "total_reward = 0\n",
        "for i in range(steps):\n",
        "    chosen_lamp = greedy_approach(lamp_durations)\n",
        "    reward = lamp_durations[chosen_lamp]\n",
        "    total_reward += reward\n",
        "\n",
        "average_reward = total_reward / steps\n",
        "print(\"Average reward using Greedy Approach:\", average_reward)\n",
        "print(\"Lamp chosen\",chosen_lamp)"
      ]
    },
    {
      "cell_type": "markdown",
      "source": [
        "**Optimistic Greedy**"
      ],
      "metadata": {
        "id": "E0glTBkvTjzk"
      }
    },
    {
      "cell_type": "code",
      "source": [
        "import random\n",
        "import numpy as np\n",
        "\n",
        "def greedy_approach(lamp_durations,steps):\n",
        "    temp1 = lamp_durations\n",
        "    total_reward = 0\n",
        "    print(temp1)\n",
        "    for i in range(steps):\n",
        "        lamp = temp1.index(max(temp1))\n",
        "        temp = random.randint(1,10)\n",
        "        temp2 = (temp1[lamp]+temp)/2   # average reward\n",
        "        temp1[lamp] = temp2\n",
        "        total_reward = total_reward + temp\n",
        "    print(\"Lamp with maximum reward \" ,np.argmax(temp1))\n",
        "    print(\"Total reward:\",total_reward)\n",
        "    return temp1\n",
        "\n",
        "\n",
        "lamp_durations = [11, 11, 11, 11, 11]\n",
        "steps = 1000\n",
        "\n",
        "ch_lamp = greedy_approach(lamp_durations,steps)\n",
        "print(ch_lamp)"
      ],
      "metadata": {
        "colab": {
          "base_uri": "https://localhost:8080/"
        },
        "id": "sFhj7m24SrMU",
        "outputId": "e527ad76-a48a-4f11-edea-871466df8861"
      },
      "execution_count": null,
      "outputs": [
        {
          "output_type": "stream",
          "name": "stdout",
          "text": [
            "[11, 11, 11, 11, 11]\n",
            "Lamp with maximum reward  2\n",
            "Total reward: 5500\n",
            "[1.8258502553411804, 2.0801449116297945, 3.9415781681817856, 2.0359569507118183, 1.698974609375]\n"
          ]
        }
      ]
    },
    {
      "cell_type": "markdown",
      "source": [
        "**Epsilon Greedy**"
      ],
      "metadata": {
        "id": "audyHtCOT1rc"
      }
    },
    {
      "cell_type": "code",
      "source": [
        "import random\n",
        "\n",
        "def epsilon_greedy_approach(lamp_durations, epsilon):\n",
        "    num_lamps = len(lamp_durations)\n",
        "    chosen_lamp = None\n",
        "\n",
        "    for _ in range(steps):\n",
        "        if random.random() < epsilon:\n",
        "            chosen_lamp = random.randint(0, num_lamps - 1)\n",
        "        else:\n",
        "            chosen_lamp = lamp_durations.index(max(lamp_durations))\n",
        "        reward = lamp_durations[chosen_lamp]\n",
        "        observed_duration = random.randint(1, 10)  # Generate random observed duration\n",
        "        lamp_durations[chosen_lamp] = (lamp_durations[chosen_lamp] + observed_duration) / 2\n",
        "\n",
        "    return chosen_lamp\n",
        "\n",
        "num_lamps = 5\n",
        "lamp_durations = [random.randint(1, 10) for _ in range(num_lamps)]  # Generate random durations\n",
        "steps = 1000\n",
        "exploration_probability = 0.1  # Set epsilon value\n",
        "\n",
        "total_reward = 0\n",
        "for _ in range(steps):\n",
        "    chosen_lamp = epsilon_greedy_approach(lamp_durations, exploration_probability)\n",
        "    reward = lamp_durations[chosen_lamp]\n",
        "    total_reward += reward\n",
        "\n",
        "average_reward = total_reward / steps\n",
        "print(\"Average reward using Epsilon-Greedy Approach:\", average_reward)\n"
      ],
      "metadata": {
        "id": "sL__3t_nUAPX",
        "outputId": "2715b16e-095d-4971-9377-55ad18a7f617",
        "colab": {
          "base_uri": "https://localhost:8080/"
        }
      },
      "execution_count": null,
      "outputs": [
        {
          "output_type": "stream",
          "name": "stdout",
          "text": [
            "Average reward using Epsilon-Greedy Approach: 5.433559512301885\n"
          ]
        }
      ]
    }
  ]
}